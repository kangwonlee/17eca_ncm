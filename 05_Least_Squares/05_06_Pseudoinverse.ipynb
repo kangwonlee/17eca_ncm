{
 "cells": [
  {
   "cell_type": "markdown",
   "metadata": {},
   "source": [
    "## 5.6 의사역행렬"
   ]
  },
  {
   "cell_type": "markdown",
   "metadata": {},
   "source": [
    "의사역행렬의 정의는 행렬의 프로베니우스 놂 Frobenius Norm 을 사용한다:\n",
    "$$||A||_F = \\left(\\sum\\limits_{i} \\sum\\limits_{j} {a_{i,j}}^2\n",
    "\\right)^{1/2}$$\n",
    "예를 들어 다음과 같이 계산할 수 있다."
   ]
  },
  {
   "cell_type": "code",
   "execution_count": null,
   "metadata": {
    "collapsed": true
   },
   "outputs": [],
   "source": [
    "# https://docs.scipy.org/doc/numpy/reference/generated/numpy.linalg.norm.html\n",
    "\n",
    "import numpy as np\n",
    "import numpy.linalg as na\n",
    "\n",
    "mat_a = np.random.rand(5, 2)\n",
    "norm_frobenius = na.norm(mat_a, 'fro')\n",
    "norm_frobenius"
   ]
  }
 ],
 "metadata": {
  "kernelspec": {
   "display_name": "Python 3",
   "language": "python",
   "name": "python3"
  },
  "language_info": {
   "codemirror_mode": {
    "name": "ipython",
    "version": 3
   },
   "file_extension": ".py",
   "mimetype": "text/x-python",
   "name": "python",
   "nbconvert_exporter": "python",
   "pygments_lexer": "ipython3",
   "version": "3.6.1"
  }
 },
 "nbformat": 4,
 "nbformat_minor": 2
}
