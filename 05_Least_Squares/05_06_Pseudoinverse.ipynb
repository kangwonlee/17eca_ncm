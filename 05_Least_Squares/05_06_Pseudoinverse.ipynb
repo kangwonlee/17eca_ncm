{
 "cells": [
  {
   "cell_type": "markdown",
   "metadata": {},
   "source": [
    "## 5.6 의사역행렬"
   ]
  },
  {
   "cell_type": "markdown",
   "metadata": {},
   "source": [
    "의사역행렬의 정의는 행렬의 프로베니우스 놂 Frobenius Norm 을 사용한다:\n",
    "$$||A||_F = \\left(\\sum\\limits_{i} \\sum\\limits_{j} {a_{i,j}}^2\n",
    "\\right)^{1/2}$$\n",
    "예를 들어 다음과 같이 계산할 수 있다."
   ]
  },
  {
   "cell_type": "code",
   "execution_count": null,
   "metadata": {
    "collapsed": true
   },
   "outputs": [],
   "source": [
    "# https://docs.scipy.org/doc/numpy/reference/generated/numpy.linalg.norm.html\n",
    "\n",
    "import numpy as np\n",
    "import numpy.linalg as na\n",
    "\n",
    "mat_x = np.random.rand(5, 2)\n",
    "norm_frobenius = na.norm(mat_x, 'fro')\n",
    "norm_frobenius"
   ]
  },
  {
   "cell_type": "markdown",
   "metadata": {},
   "source": [
    "행렬의 프로베니우스 놂은 행렬을 한 행 또는 한 열로 편 벡터의 2-놂과 같다"
   ]
  },
  {
   "cell_type": "code",
   "execution_count": null,
   "metadata": {
    "collapsed": true
   },
   "outputs": [],
   "source": [
    "na.norm(mat_x.flatten()) == norm_frobenius"
   ]
  },
  {
   "cell_type": "markdown",
   "metadata": {},
   "source": [
    "무어 펜로즈 의사역행렬 Moore-Penrose pseudoinverse 는 일반적인 역행렬을 일반화하고 확장한다. 의사역행렬은 단검 윗첨자로 표시한다.\n",
    "$$Z=X^\\dagger$$\n",
    "아래와 같이 구할 수 있다."
   ]
  },
  {
   "cell_type": "code",
   "execution_count": null,
   "metadata": {
    "collapsed": true
   },
   "outputs": [],
   "source": [
    "mat_z = na.pinv(mat_x)"
   ]
  },
  {
   "cell_type": "markdown",
   "metadata": {},
   "source": [
    "행렬 $X$가 정방행렬이고 비특이행렬이면 의사역행렬과 역행렬은 같다:\n",
    "$$X^\\dagger=X^{-1}$$\n",
    "만일 $X$가 $m\\times n$ 이고 $m>n$ 이며 $X$ 행렬의 계수가 최대 full rank 인 경우 그 의사역행렬은 정규 방정식에 사용되었던 행렬이다.\n",
    "$$X^\\dagger=(X^TX)^{-1}X^T$$\n",
    "의사역행렬은 일반적인 역행렬의 특징 가운데 몇가지를 가진다. $X^\\dagger$ 는 좌역행렬이기도 한데 그 까닭은\n",
    "$$X^\\dagger X = (X^T X)^{-1} X^TX = I$$\n",
    "가 $n \\times n$ 등식이기 때문이다.  그러나 $X^\\dagger$ 는 우역행렬은 아닌데 왜냐하면\n",
    "$$XX^\\dagger  = X (X^T X)^{-1} X^T$$\n",
    "은 계수 $n$ 이고 $m \\times m$ 등식은 될 수 없기 때문이다."
   ]
  }
 ],
 "metadata": {
  "kernelspec": {
   "display_name": "Python 3",
   "language": "python",
   "name": "python3"
  },
  "language_info": {
   "codemirror_mode": {
    "name": "ipython",
    "version": 3
   },
   "file_extension": ".py",
   "mimetype": "text/x-python",
   "name": "python",
   "nbconvert_exporter": "python",
   "pygments_lexer": "ipython3",
   "version": "3.6.1"
  }
 },
 "nbformat": 4,
 "nbformat_minor": 2
}
