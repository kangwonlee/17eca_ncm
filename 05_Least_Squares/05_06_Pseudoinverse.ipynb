{
 "cells": [
  {
   "cell_type": "markdown",
   "metadata": {},
   "source": [
    "## 5.6 의사역행렬"
   ]
  },
  {
   "cell_type": "markdown",
   "metadata": {},
   "source": [
    "의사역행렬의 정의는 행렬의 프로베니우스 놂 Frobenius Norm 을 사용한다:\n",
    "$$||A||_F = \\left(\\sum\\limits_{i} \\sum\\limits_{j} {a_{i,j}}^2\n",
    "\\right)^{1/2}$$\n",
    "예를 들어 다음과 같이 계산할 수 있다."
   ]
  },
  {
   "cell_type": "code",
   "execution_count": null,
   "metadata": {
    "collapsed": true
   },
   "outputs": [],
   "source": [
    "# https://docs.scipy.org/doc/numpy/reference/generated/numpy.linalg.norm.html\n",
    "\n",
    "import numpy as np\n",
    "import numpy.linalg as na\n",
    "\n",
    "mat_x = np.random.rand(5, 2)\n",
    "norm_frobenius = na.norm(mat_x, 'fro')\n",
    "norm_frobenius"
   ]
  },
  {
   "cell_type": "markdown",
   "metadata": {},
   "source": [
    "행렬의 프로베니우스 놂은 행렬을 한 행 또는 한 열로 편 벡터의 2-놂과 같다"
   ]
  },
  {
   "cell_type": "code",
   "execution_count": null,
   "metadata": {
    "collapsed": true
   },
   "outputs": [],
   "source": [
    "na.norm(mat_x.flatten()) == norm_frobenius"
   ]
  },
  {
   "cell_type": "markdown",
   "metadata": {},
   "source": [
    "무어 펜로즈 의사역행렬 Moore-Penrose pseudoinverse 는 일반적인 역행렬을 일반화하고 확장한다. 의사역행렬은 단검 윗첨자로 표시한다.\n",
    "$$Z=X^\\dagger$$\n",
    "아래와 같이 구할 수 있다."
   ]
  },
  {
   "cell_type": "code",
   "execution_count": null,
   "metadata": {
    "collapsed": true
   },
   "outputs": [],
   "source": [
    "mat_z = na.pinv(mat_x)"
   ]
  },
  {
   "cell_type": "markdown",
   "metadata": {},
   "source": [
    "행렬 $X$가 정방행렬이고 비특이행렬이면 의사역행렬과 역행렬은 같다:\n",
    "$$X^\\dagger=X^{-1}$$\n",
    "만일 $X$가 $m\\times n$ 이고 $m>n$ 이며 $X$ 행렬의 계수가 최대 full rank 인 경우 그 의사역행렬은 정규 방정식에 사용되었던 행렬이다.\n",
    "$$X^\\dagger=(X^TX)^{-1}X^T$$\n",
    "의사역행렬은 일반적인 역행렬의 특징 가운데 몇가지를 가진다. $X^\\dagger$ 는 좌역행렬이기도 한데 그 까닭은\n",
    "$$X^\\dagger X = (X^T X)^{-1} X^TX = I$$\n",
    "가 $n \\times n$ 등식이기 때문이다.  그러나 $X^\\dagger$ 는 우역행렬은 아닌데 왜냐하면\n",
    "$$XX^\\dagger  = X (X^T X)^{-1} X^T$$\n",
    "은 계수 $n$ 이고 $m \\times m$ 등식은 될 수 없기 때문이다.\n",
    "의사역행렬은 우역행렬에 비슷하기는 한데, 아래를 최소화 하는 모든 행렬 $Z$ 가운데 \n",
    "$$||XZ-I||_F$$\n",
    "$Z=X^\\dagger$ 는 또한 다음을 최소화한다.\n",
    "$$||Z||_F$$\n",
    "밝혀진 바로는 이러한 최소화 성질 덕분으로 $X$의 계수 rank 가 부족한 경우에도 유일한 의사역행렬을 정의한다.\n",
    "$ 1 \\times 1$ 경우를 생각해 보라. 어떤 실수 (또는 복소수) $x$ 의 역수는 무엇인가? 만일 $x$가 0이 아니라면, 그렇다면 분명히 $x^{-1}=1/x$이다. 그러나 만일 $x$가 0이라면, $x^{-1}$는 존재하지 않는다. 해당 의사역행렬은 이런 상황에도 대응하는데, 스칼라의 경우, $$|xz-1|$$ 와 |z|를 최소화 하는 유일한 숫자는 \n",
    "$$x^\\dagger=\\begin{cases} \n",
    "    1/x & x \\ne 0 \\\\\n",
    "    0 & x = 0\n",
    "\\end{cases}$$\n",
    "이다.\n",
    "\n"
   ]
  }
 ],
 "metadata": {
  "kernelspec": {
   "display_name": "Python 3",
   "language": "python",
   "name": "python3"
  },
  "language_info": {
   "codemirror_mode": {
    "name": "ipython",
    "version": 3
   },
   "file_extension": ".py",
   "mimetype": "text/x-python",
   "name": "python",
   "nbconvert_exporter": "python",
   "pygments_lexer": "ipython3",
   "version": "3.6.1"
  }
 },
 "nbformat": 4,
 "nbformat_minor": 2
}
