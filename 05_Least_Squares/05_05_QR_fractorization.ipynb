{
 "cells": [
  {
   "cell_type": "markdown",
   "metadata": {},
   "source": [
    "원문: Moler, Cleve B. [Numerical computing with MATLAB](https://www.mathworks.com/moler/chapters.html). Society for Industrial and Applied Mathematics, 2008."
   ]
  },
  {
   "cell_type": "markdown",
   "metadata": {},
   "source": [
    "## 5.5 QR 분해"
   ]
  },
  {
   "cell_type": "markdown",
   "metadata": {},
   "source": [
    "만일 모든 매개변수가 선형적으로 나타나고 관측값의 수가 기저함수의 수 보다 많다면, 우리는 최소자승 문제를 가지고 있는 것이 된다. 설계행렬 $X$ 는 $m \\times n$ 이고 $m>n$ 이다. 우리가 풀고 싶은 문제는 다음과 같다.\n",
    "\n",
    "$$X \\beta \\approx y$$\n",
    "\n",
    "그러나 이 연립방정식은 과결정이다. 방정식이 미지수보다 많다. 따라서 우리는 이 연립방정식의 엄밀하게 풀 수 없다. 사실, 우리는 최소자승 관점에서 푼다:\n",
    "$$ min_\\beta ||X \\beta - y ||$$\n",
    "과결정된 연립방정식을 푸는 한가지 가능한 이론적 접근 방법으로 양변을 $X^T$ 로 곱하는 방법이 있다. 이렇게 하면 해당 연립방정식이 $n \\times n$ 의 *정규방정식* 이라고 알려진 형태로 줄어든다. \n",
    "\n",
    "$$X^T X \\beta = X^T y$$\n",
    "\n",
    "관찰값의 수는 수천이지만 미지수의 수는 몇개 밖에 안될 경우, 설계행렬 $X$는 상당히 커지지만, 해당 행렬 $X^TX$는 작아진다. $y$ 는 $X$의 각 열로 생성된 공간에 투사된다. 이러한 이론적 접근 을 이어가서, 만일 기저함수가 독립이라면, $X^T X$는 비특이 행렬이 되고 매개변수는 다음과 같이 구해진다.\n",
    "\n",
    "$$\\beta = (X^T X)^{-1} X^T y $$"
   ]
  }
 ],
 "metadata": {
  "kernelspec": {
   "display_name": "Python 3",
   "language": "python",
   "name": "python3"
  },
  "language_info": {
   "codemirror_mode": {
    "name": "ipython",
    "version": 3
   },
   "file_extension": ".py",
   "mimetype": "text/x-python",
   "name": "python",
   "nbconvert_exporter": "python",
   "pygments_lexer": "ipython3",
   "version": "3.6.1"
  }
 },
 "nbformat": 4,
 "nbformat_minor": 1
}
