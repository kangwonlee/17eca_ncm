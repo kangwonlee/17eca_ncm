{
 "cells": [
  {
   "cell_type": "markdown",
   "metadata": {},
   "source": [
    "원문: Moler, Cleve B. Numerical computing with MATLAB. Society for Industrial and Applied Mathematics, 2008."
   ]
  },
  {
   "cell_type": "heading",
   "metadata": {},
   "level": 1,
   "source": [
    "4장 근"
   ]
  },
  {
   "cell_type": "markdown",
   "metadata": {},
   "source": [
    "이 장에서 설명하는 것은 함수의 근을 계산하는 몇가지 기본적인 방법과 3가지 방법을 복합한 빠르고 신뢰성 있는 알고리듬인 'zeroin' 이다."
   ]
  },
  {
   "cell_type": "heading",
   "metadata": {},
   "level": 2,
   "source": [
    "4.1 이분법"
   ]
  },
  {
   "cell_type": "markdown",
   "metadata": {},
   "source": [
    "$\\sqrt2$를 계산해 보자. 우리는 *구간이분법*을 사용할 것인데, 이는 일종의 체계적인 시행착오법이다.  우리는 $\\sqrt2$가 1 과 2 사이 임을 알고 있다.  $x=1\\frac{1}{2}$ 를 시도해 보라.  $x^2$ 가 2 보다 크기 때문에 이 $x$는 너무 크다. $x=1\\frac{1}{4}$ 를 시도해 보라.  $x^2$ 가 2 보다 작기 때문에 이 $x$는 너무 작다.  이렇게 반복하다 보면, 우리의 $\\sqrt2$에 대한 근사값은 다음과 같다.\n",
    "\n",
    "$$1\\frac{1}{2}, \\frac{1}{4}, \\frac{3}{8}, \\frac{5}{16}, \\frac{13}{32}, \\frac{27}{64}, \n",
    "\\cdots$$"
   ]
  },
  {
   "cell_type": "markdown",
   "metadata": {},
   "source": [
    ""
   ]
  }
 ],
 "metadata": {
  "anaconda-cloud": {},
  "kernelspec": {
   "display_name": "Python [default]",
   "language": "python",
   "name": "python3"
  },
  "language_info": {
   "codemirror_mode": {
    "name": "ipython",
    "version": 3.0
   },
   "file_extension": ".py",
   "mimetype": "text/x-python",
   "name": "python",
   "nbconvert_exporter": "python",
   "pygments_lexer": "ipython3",
   "version": "3.5.2"
  }
 },
 "nbformat": 4,
 "nbformat_minor": 0
}