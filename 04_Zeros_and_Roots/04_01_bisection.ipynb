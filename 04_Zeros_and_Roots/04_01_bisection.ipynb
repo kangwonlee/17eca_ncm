{
 "cells": [
  {
   "cell_type": "markdown",
   "metadata": {},
   "source": [
    "원문: Moler, Cleve B. Numerical computing with MATLAB. Society for Industrial and Applied Mathematics, 2008."
   ]
  },
  {
   "cell_type": "heading",
   "metadata": {},
   "level": 1,
   "source": [
    "4장 근"
   ]
  },
  {
   "cell_type": "markdown",
   "metadata": {},
   "source": [
    "이 장에서 설명하는 것은 함수의 근을 계산하는 몇가지 기본적인 방법과 3가지 방법을 복합한 빠르고 신뢰성 있는 알고리듬인 'zeroin' 이다."
   ]
  },
  {
   "cell_type": "heading",
   "metadata": {},
   "level": 2,
   "source": [
    "4.1 이분법"
   ]
  },
  {
   "cell_type": "markdown",
   "metadata": {},
   "source": [
    "$\\sqrt2$를 계산해 보자. 우리는 *구간이분법*을 사용할 것인데, 이는 일종의 체계적인 시행착오법이다.  우리는 $\\sqrt2$가 1 과 2 사이 임을 알고 있다.  $x=1\\frac{1}{2}$ 를 시도해 보라.  $x^2$ 가 2 보다 크기 때문에 이 $x$는 너무 크다. $x=1\\frac{1}{4}$ 를 시도해 보라.  $x^2$ 가 2 보다 작기 때문에 이 $x$는 너무 작다.  이렇게 반복하다 보면, 우리의 $\\sqrt2$에 대한 근사값은 다음과 같다.\n",
    "\n",
    "$$1\\frac{1}{2}, \\frac{1}{4}, \\frac{3}{8}, \\frac{5}{16}, \\frac{13}{32}, \\frac{27}{64}, \n",
    "\\cdots$$\n",
    "\n",
    "아래 코드가 있으며, 반복 횟수도 센다."
   ]
  },
  {
   "cell_type": "code",
   "execution_count": 1,
   "metadata": {
    "collapsed": true
   },
   "outputs": [
    {
     "name": "stdout",
     "output_type": "stream",
     "text": [
      "k =     0, b = 1.5\nk =     1, a = 1.25\nk =     2, a = 1.375\nk =     3, b = 1.4375\nk =     4, a = 1.40625\nk =     5, b = 1.421875\nk =     6, a = 1.4140625\nk =     7, b = 1.41796875\nk =     8, b = 1.416015625\nk =     9, b = 1.4150390625\nk =    10, b = 1.41455078125\nk =    11, b = 1.414306640625\nk =    12, a = 1.4141845703125\nk =    13, b = 1.41424560546875\nk =    14, b = 1.414215087890625\nk =    15, a = 1.414199829101562\nk =    16, a = 1.414207458496094\nk =    17, a = 1.414211273193359\nk =    18, a = 1.414213180541992\nk =    19, b = 1.414214134216309\nk =    20, b = 1.41421365737915\nk =    21, a = 1.414213418960571\nk =    22, a = 1.414213538169861\nk =    23, b = 1.414213597774506\nk =    24, b = 1.414213567972183\nk =    25, a = 1.414213553071022\nk =    26, a = 1.414213560521603\nk =    27, b = 1.414213564246893\nk =    28, b = 1.414213562384248\nk =    29, a = 1.414213561452925\nk =    30, a = 1.414213561918586\nk =    31, a = 1.414213562151417\nk =    32, a = 1.414213562267832\nk =    33, a = 1.41421356232604\nk =    34, a = 1.414213562355144\nk =    35, a = 1.414213562369696\nk =    36, b = 1.414213562376972\nk =    37, b = 1.414213562373334\nk =    38, a = 1.414213562371515\nk =    39, a = 1.414213562372424\nk =    40, a = 1.414213562372879\nk =    41, b = 1.414213562373106\nk =    42, a = 1.414213562372993\nk =    43, a = 1.41421356237305\nk =    44, a = 1.414213562373078\nk =    45, a = 1.414213562373092\nk =    46, b = 1.414213562373099\nk =    47, b = 1.414213562373096\nk =    48, a = 1.414213562373094\nk =    49, a = 1.414213562373095\nk =    50, b = 1.414213562373095\nk =    51, b = 1.414213562373095\n"
     ]
    }
   ],
   "source": [
    "M = 2\n",
    "a = 1\n",
    "b = 2\n",
    "k = 0\n",
    "eps = 4e-16\n",
    "while (b - a) > eps:\n",
    "    x = (a + b) * 0.5\n",
    "    if x**2 > M:\n",
    "        b = x\n",
    "        print('k = %5d, b = %.16g' % (k, b))\n",
    "    else:\n",
    "        a = x\n",
    "        print('k = %5d, a = %.16g' % (k, a))\n",
    "    \n",
    "    k += 1"
   ]
  },
  {
   "cell_type": "markdown",
   "metadata": {},
   "source": [
    "16진수 표시로 a 와 b 의 최종 값은 다음과 같다."
   ]
  },
  {
   "cell_type": "code",
   "execution_count": 2,
   "metadata": {},
   "outputs": [
    {
     "name": "stdout",
     "output_type": "stream",
     "text": [
      "a = b'\\xcc;\\x7ff\\x9e\\xa0\\xf6?'\nb = b'\\xcd;\\x7ff\\x9e\\xa0\\xf6?'\na = 0x1.6a09e667f3bccp+0\nb = 0x1.6a09e667f3bcdp+0\n"
     ]
    }
   ],
   "source": [
    "# https://stackoverflow.com/questions/19414847\n",
    "import struct\n",
    "\n",
    "print('a = %s' % struct.pack('d', a))\n",
    "print('b = %s' % struct.pack('d', b))\n",
    "print('a = %s' % a.hex())\n",
    "print('b = %s' % b.hex())"
   ]
  },
  {
   "cell_type": "markdown",
   "metadata": {},
   "source": [
    "거의 마지막 비트 까지 같다.  우리는 실제로 $\\sqrt2$를 계산하지는 않았는데, 이는 무리수이고 부동소숫점으로는 표시할 수 없다.  하지만 우리는 두 *연속된* 부동소숫점 숫자를 찾았는데, 각각 이론해의 양 쪽에 자리한다. 52단계를 거쳤는데 그 까닭은 전기전자공학회 IEEE 배정도 숫자의 유효숫자 표시 부분이 52 비트이기 때문이다.  각 단계가 간격의 길이를 대략 한 비트씩 줄인 셈이다.\n",
    "\n",
    "간격을 절반씩 줄여나가는 것은 느리지만 확실하게 $f(x)$ 를 0으로 만드는 $x$ 를 찾는 방법으로, 여기서 $f(x)$ 는 실수값 함수로 실수 매개 변수를 받아 들인다.  단지 우리가 $f(x)$ 에 대해 가정한 것은 우리가 작성한 프로그램이 어떤 x 에 대해서라도 그 결과를 계산할 수 있다는 것이다. 우리는 또한 가정한 것은 어떤 구간 $[a, b]$ 를 알고 있는데 그 사이에서 $f(x)$ 가 부호를 바꾼다는 것이다.  만일 $f(x)$가 실은 *연속* 수학 함수라면, 점 $x_*$ 가 그 구간 어딘가에 반드시 있는데 여기서 $f(x_*)=0$ 라는 것이다."
   ]
  }
 ],
 "metadata": {
  "anaconda-cloud": {},
  "kernelspec": {
   "display_name": "Python [default]",
   "language": "python",
   "name": "python3"
  },
  "language_info": {
   "codemirror_mode": {
    "name": "ipython",
    "version": 3.0
   },
   "file_extension": ".py",
   "mimetype": "text/x-python",
   "name": "python",
   "nbconvert_exporter": "python",
   "pygments_lexer": "ipython3",
   "version": "3.5.2"
  }
 },
 "nbformat": 4,
 "nbformat_minor": 0
}