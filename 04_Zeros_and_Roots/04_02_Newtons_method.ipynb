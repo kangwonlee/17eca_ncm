{
 "cells": [
  {
   "cell_type": "markdown",
   "metadata": {},
   "source": [
    "원문: Moler, Cleve B. [Numerical computing with MATLAB](https://www.mathworks.com/moler/chapters.html). Society for Industrial and Applied Mathematics, 2008."
   ]
  },
  {
   "cell_type": "heading",
   "metadata": {},
   "level": 2,
   "source": [
    "4.2 뉴튼 Newton 법"
   ]
  },
  {
   "cell_type": "markdown",
   "metadata": {},
   "source": [
    "뉴튼법으로 $f(x)=0$ 을 풀자면, 접선을 $f(x)$ 그래프로부터 아무 지점에서나 그리고 그 접선이 $x$축과 교차하는 점을 찾는다. 이 방식은 하나의 시작점 $x0$를 요구한다. 접선은 다음과 같이 구한다.\n",
    "\n",
    "$$x_{n+1}=x_n-\\frac{f(x_n)}{f'(x_n)}$$\n",
    "\n",
    "프로그램은 다음과 같다."
   ]
  },
  {
   "cell_type": "code",
   "execution_count": 1,
   "metadata": {},
   "outputs": [],
   "source": [
    "import math\n",
    "eps = 4e-16\n",
    "\n",
    "\n",
    "def newton(f, fprime, x):\n",
    "    xprev = math.inf\n",
    "    k = 0\n",
    "    while abs(x - xprev) > eps * abs(x):\n",
    "        xprev = x\n",
    "        x += - f(x) /  fprime(x)\n",
    "        k += 1\n",
    "    \n",
    "    return x"
   ]
  },
  {
   "cell_type": "markdown",
   "metadata": {},
   "source": [
    "제곱근을 구하는 방법으로서 뉴튼 법은 특히 명쾌하고 효과적이다. $\\sqrt M$ 을 계산하려면, 다음을 0으로 만드는 $x$를 찾는다.\n",
    "\n",
    "$$f(x)=x^2-M$$\n",
    "\n",
    "이 경우, $f'(x)=2x$ 이고\n",
    "\n",
    "\\begin{align}\n",
    "x_{n+1}&= x_n - \\frac{{x_n}^2-M}{2x_n} \\\\\\\n",
    "&= \\frac{1}{2}(x_n+\\frac{M}{x_n})\n",
    "\\end{align}\n",
    "\n",
    "이다. 해당 알고리듬은 반복적으로 $x$와 $M/x$ 의 평균을 구한다. 해당 코드는 다음과 같다."
   ]
  },
  {
   "cell_type": "code",
   "execution_count": 2,
   "metadata": {},
   "outputs": [
    {
     "name": "stdout",
     "output_type": "stream",
     "text": [
      "x = 1.5\nx = 1.416666666666667\nx = 1.41421568627451\nx = 1.41421356237469\nx = 1.414213562373095\nx = 1.414213562373095\n"
     ]
    }
   ],
   "source": [
    "M = 2.0\n",
    "x = 1.0\n",
    "\n",
    "import math\n",
    "xprev = math.inf\n",
    "eps = 4e-16\n",
    "\n",
    "while abs(x - xprev) > eps * abs(x):\n",
    "    xprev = x\n",
    "    x = 0.5 * (x + M/x)\n",
    "    print('x = %.16g' % x)"
   ]
  },
  {
   "cell_type": "markdown",
   "metadata": {},
   "source": [
    "뉴튼법은 단지 6번 반복한다. 사실, 5번만에 도달했지만 종결 조건에 도달하기 위해 6번째 반복이 필요했다.\n",
    "\n",
    "뉴튼법이 제곱근의 경우에서 처럼 작동한다면, 매우 효과적이다. 이는 많은 강력한 수치 해법의 기반이다. 그러나, 범용 알고리듬으로서 어떤 함수를 0으로 만드는 $x$를 찾는데는 이 방법은 세가지 심각한 문제점을 가지고 있다.\n",
    "\n",
    "* 함수 $f(x)$ 가 반드시 매끄러워야 한다.\n",
    "* 미분 $f'(x)$를 계산하는 것이 편리하지 않을 수 있다.\n",
    "* 그 첫 짐작 값이 그 최종 결과에 가까와야 한다.\n",
    "\n",
    "원칙적으로는, 해당 미분 $f'(x)$ 계산은 어떤 알려진 기법인 *자동 미분* 으로 가능할 수도 있다. 어떠한 프로그래밍 언어로 작성된 함수 ``f(x)`` 또는 임의의 적당한 코드가 정의하는 것은 그 매개변수에 대한 수학적 함수이다.  현대 전산학 문법 분석 기법을 미적분학의 규칙, 특히 연쇄 법칙과 결합함으로써 이론적으로는 다른 함수 ``fprime(x)``을 위한 코드를 생성하여 $f'(x)$를 계산하는 것이 가능해 진다. 그러나, 그러한 기법을 실제로 구현하는 것은 상당히 복잡하여 아직 완전히 구현되지는 않았다.\n",
    "\n",
    "뉴튼법의 국소 수렴 특성은 매우 흡인력이 강하다. $x_*$ 가 $f(x)$를 0으로 만든다고 하고 $e_n=x_n-x_*$ 이라고 하면, n번째 반복의 오류가 된다. 아래와 같이 가정하라.\n",
    "\n",
    "* $f'(x)$ 와 $f''(x)$ 가 존재하고 연속이다.\n",
    "* $x_0$ 는 $x_*$과 가깝다.\n",
    "\n",
    "그렇다면 다음을 증명할 수 있다.\n",
    "\n",
    "$$e_{n+1} = \\frac{1}{2}\\frac{f''(\\xi)}{f'(x)}{e_n}^2$$\n",
    "\n",
    "여기서 $\\xi$는 어떤 점으로 $x_n$과 $x_*$의 사이에 있다. 바꾸어 말하면 다음과 같다.\n",
    "\n",
    "$$e_{n+1} = O({e_n}^2)$$\n",
    "\n",
    "이것은 *2차* 수렴이라고 한다. 매끄러운 함수의 경우, 일단 0으로 만드는 $x$값에 충분히 가까우면, 그 오차는 대략 제곱으로 반복때 마다 감소한다. 수치가 정확한 자릿수가 각 반복 횟수마다 거의 배가 되는 것이다. 우리가 $\\sqrt2$ 에서 보았던 결과가 전형적이다.\n",
    "\n",
    "국소 수렴 이론 아래 깔린 가정이 충족되지 않으면, 뉴튼법은 신뢰할 수 없을 수도 있다. $f(x)$ 의 첫번째 두번째 미분이 연속적이고 유한이 아니거나 그 시작점이 $f(x)$를 0으로 만드는 $x$에 가깝지 않다면, 국소이론은 적용되지 않고 느리게 수렴하거나 심지어 전혀 수렴하지 않을 수도 있다. 다음에는 어떤 일이 일어날 수 있는지 한 예를 들겠다."
   ]
  },
  {
   "cell_type": "heading",
   "metadata": {},
   "level": 2,
   "source": [
    "4.3 악의적 예제"
   ]
  },
  {
   "cell_type": "markdown",
   "metadata": {},
   "source": [
    "우리가 뉴튼법을 무한 반복 시킬 수 있는지 보자. 반복식\n",
    "\n",
    "$$x_{n+1}=x_n-\\frac{f(x_n)}{f'(x_n)}$$\n",
    "\n",
    "이 앞뒤로 점 $a$ 주변을 반복한다는 것은 다음 경우이다.\n",
    "\n",
    "$$x_{n+1}-a=-(x_n-a)$$\n",
    "\n",
    "이는 만일 $f(x)$가 아래 조건을 만족 시키면 발생한다\n",
    "\n",
    "$$x - a - \\frac{f(x_n)}{f'(x_n)} = - (x -a) $$\n",
    "\n",
    "이는 분리 가능한 상미분 방정식이다:\n",
    "\n",
    "$$\\frac{f'(x)}{f(x)} = \\frac{1}{2(x -a)} $$\n",
    "\n",
    "그 해는 다음과 같다.\n",
    "\n",
    "$$f(x)=sign(x-a) \\sqrt{|x-a|}$$\n",
    "\n",
    "$f(x)$ 의 해는, 당연히, $x_*=a$ 에 있다. $f(x)$ 를 그려보자."
   ]
  },
  {
   "cell_type": "code",
   "execution_count": 4,
   "metadata": {},
   "outputs": [
    {
     "data": {
      "image/png": "[encoded data removed]",
      "text/plain": [
       "<matplotlib.figure.Figure at 0x16fe63d1a20>"
      ]
     },
     "metadata": {},
     "output_type": "display_data"
    },
    {
     "data": {
      "text/plain": [
       "<sympy.plotting.plot.Plot at 0x16fe63d1940>"
      ]
     },
     "execution_count": 4,
     "metadata": {},
     "output_type": "execute_result"
    }
   ],
   "source": [
    "import sympy as sy\n",
    "\n",
    "\n",
    "x = sy.symbols('x')\n",
    "sy.plot(sy.sign(x - 2) * sy.sqrt(abs(x - 2)), (x, 0, 4))"
   ]
  },
  {
   "cell_type": "markdown",
   "metadata": {},
   "source": [
    "해당 그래프의 어떠한 점에서도 접선을 그리면, 접선과 x 축이 $x=a$의 반대편에서 교차한다. 뉴턴법은 영원히 반복되고, 수렴하지도 발산하지도 않는다.\n",
    "\n",
    "뉴튼법의 수렴 이론은 이 경우 성립되지 않는데, $x\\rightarrow a$ 임에 따라 $f'(x)$ 가 발산하기 때문이다. 다음 절에서 설명할 알고리듬을 이 함수에 적용하는 것도 흥미로울 것이다."
   ]
  }
 ],
 "metadata": {
  "anaconda-cloud": {},
  "kernelspec": {
   "display_name": "Python [default]",
   "language": "python",
   "name": "python3"
  },
  "language_info": {
   "codemirror_mode": {
    "name": "ipython",
    "version": 3.0
   },
   "file_extension": ".py",
   "mimetype": "text/x-python",
   "name": "python",
   "nbconvert_exporter": "python",
   "pygments_lexer": "ipython3",
   "version": "3.5.2"
  }
 },
 "nbformat": 4,
 "nbformat_minor": 0
}