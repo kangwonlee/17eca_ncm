{
 "cells": [
  {
   "cell_type": "markdown",
   "metadata": {},
   "source": [
    "원문: Moler, Cleve B. Numerical computing with MATLAB. Society for Industrial and Applied Mathematics, 2008."
   ]
  },
  {
   "cell_type": "heading",
   "metadata": {},
   "level": 2,
   "source": [
    "1.2 피보나치 수"
   ]
  },
  {
   "cell_type": "markdown",
   "metadata": {},
   "source": [
    "레오나도 피사노 피보나치는 1170년 무렵 태어나 1250년 오늘날의 이탈리아에 속한 피사에서 세상을 떠났다. 그는 유럽과 북아프리카를 두루 여행했었다. 그는 몇권의 수학 문헌을 썼는데 특히 유럽에 인도-아라비아 숫자를 소개했다. 그의 책은 손으로 배껴썼어야 했지만, 널리 읽혀졌다. 그의 가장 잘 알려진 책 *Liber Abaci* 는 1202년에 출판되었는데, 다음과 같은 문제를 제시하였다.\n",
    "\n",
    ">> *어떤 사람이 한쌍의 토끼를 사방이 벽으로 둘러싸인 장소에 두었다. 그 한쌍으로부터 몇쌍의 토끼가 태어날 수 있겠는가? 매달 각 쌍이 새로운 한쌍을 낳고, 태어난 후 두달째 부터 새끼를 낳을 수 있다.*\n",
    "\n",
    "오늘날 이 문제의 해는 *피보나치 수열* 또는 *피보나치 수* 로 알려져 있다. 피보나치 수에 기반하는 자그마한 수학적 산업이 있다. \"피보나치\"를 인터넷에서 검색해 보면 수십개의 웹사이트와 수백 페이지의 문헌을 찾을 수 있을 것이다.  피보나치 협회도 있어서 *Fibonacci Quarterly*라는 학술지도 출간한다."
   ]
  }
 ],
 "metadata": {
  "kernelspec": {
   "display_name": "Python 2",
   "language": "python",
   "name": "python2"
  },
  "language_info": {
   "codemirror_mode": {
    "name": "ipython",
    "version": 2.0
   },
   "file_extension": ".py",
   "mimetype": "text/x-python",
   "name": "python",
   "nbconvert_exporter": "python",
   "pygments_lexer": "ipython2",
   "version": "2.7.6"
  }
 },
 "nbformat": 4,
 "nbformat_minor": 0
}