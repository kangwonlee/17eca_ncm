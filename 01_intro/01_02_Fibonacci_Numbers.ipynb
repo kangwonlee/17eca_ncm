{
 "cells": [
  {
   "cell_type": "markdown",
   "metadata": {},
   "source": [
    "원문: Moler, Cleve B. [Numerical computing with MATLAB](https://www.mathworks.com/moler/chapters.html). Society for Industrial and Applied Mathematics, 2008."
   ]
  },
  {
   "cell_type": "markdown",
   "metadata": {},
   "source": [
    "## 1.2 피보나치 수"
   ]
  },
  {
   "cell_type": "markdown",
   "metadata": {},
   "source": [
    "레오나도 피사노 피보나치는 1170년 무렵 태어나 1250년 오늘날의 이탈리아에 속한 피사에서 세상을 떠났다. 그는 유럽과 북아프리카를 두루 여행했었다. 그는 몇권의 수학 문헌을 썼는데 특히 유럽에 인도-아라비아 숫자를 소개했다. 그의 책은 손으로 배껴썼어야 했지만, 널리 읽혀졌다. 그의 가장 잘 알려진 책 *Liber Abaci* 는 1202년에 출판되었는데, 다음과 같은 문제를 제시하였다.\n",
    "\n",
    ">> *어떤 사람이 한쌍의 토끼를 사방이 벽으로 둘러싸인 장소에 두었다. 그 한쌍으로부터 몇쌍의 토끼가 1년 이내에 태어날 수 있겠는가? 매달 각 쌍이 새로운 한쌍을 낳고, 태어난 후 두달째 부터 새끼를 낳을 수 있다.*\n",
    "\n",
    "오늘날 이 문제의 해는 *피보나치 수열* 또는 *피보나치 수* 로 알려져 있다. 피보나치 수에 기반하는 자그마한 수학적 산업이 있다. \"피보나치\"를 인터넷에서 검색해 보면 수십개의 웹사이트와 수백 페이지의 문헌을 찾을 수 있을 것이다.  피보나치 협회도 있어서 *Fibonacci Quarterly*라는 학술지도 출간한다.\n",
    "\n",
    "피보나치가 새로 태어난 한 쌍이 성장하는데 1달 걸린다는 것을 명시하지 않았다면, 그의 이름을 딴 수열이 존재하지는 않았을 것이다.  매달 단순히 두배로 늘어날 것이다.  *n* 개월 후에는 $2^n$ 쌍의 토끼가 있을 것이다.  토끼의 수는 엄청나게 불어나겠지만, 무언가 수학적으로 독특한 점은 없었을 것이다.\n",
    "\n",
    "$f_n$ 이 *n* 개월 후의 토끼 쌍의 수라고 하자. 요점은 월말의 토끼의 수는 월초의 토끼의 수에 성장한 쌍이 낳은 수를 합한 것이라는 것이다:\n",
    "\n",
    "$f_n = f_{n-1} + f_{n-2}$\n",
    "\n",
    "초기 조건은 첫 달에는 한쌍의 토끼가 있고, 둘째 달에는 두쌍이 있다는 것이다.\n",
    "\n",
    "$f_1 = 1, f_2 = 2$\n"
   ]
  },
  {
   "cell_type": "code",
   "execution_count": null,
   "metadata": {
    "collapsed": true
   },
   "outputs": [],
   "source": [
    "import numpy as np\n",
    "\n",
    "\n",
    "def fibonacci(n):\n",
    "    \"\"\"\n",
    "    Fibonacci sequence\n",
    "    generates the first n Fibonacci numbers\n",
    "    :param n: \n",
    "    :return: \n",
    "    \"\"\"\n",
    "    \n",
    "    f = np.zeros((n, 1))\n",
    "    f[0] = 1\n",
    "    f[1] = 2\n",
    "    for k in range(2, n):\n",
    "        f[k] = f[k - 1] + f[k - 2]\n",
    "    \n",
    "    return f\n",
    "\n",
    "\n",
    "fibonacci(12)"
   ]
  },
  {
   "cell_type": "markdown",
   "metadata": {},
   "source": [
    "답은 233 쌍이라는 것이다. (만일 매달 두배로 12달 동안 늘어났다면 4096 쌍이 될 것이다)\n",
    "\n",
    "함수를 자세히 살펴보자. 첫 행은 \n",
    "\n",
    "``import numpy as np``\n",
    "\n",
    "으로 ``numpy`` 라는 기능 module 을 ``np`` 라는 이름으로 불러 들인다. 그 다음 행은\n",
    "\n",
    "``def fibonacci(n):``\n",
    "\n",
    "이다.  첫번째 단어는 이것이 함수 선언의 시작임을 알린다. 나머지 부분은 함수의 이름과 이 함수가 한개의 입력 매개변수 ``n`` 을 받아들인다는 점을 표시한다. 그 다음에는 ``help`` 에 표시되는 내용을 담고 있다."
   ]
  },
  {
   "cell_type": "code",
   "execution_count": 2,
   "metadata": {},
   "outputs": [
    {
     "name": "stdout",
     "output_type": "stream",
     "text": [
      "Help on function fibonacci in module __main__:\n\nfibonacci(n)\n    Fibonacci sequence\n    generates the first n Fibonacci numbers\n    :param n: \n    :return:\n\n"
     ]
    }
   ],
   "source": [
    "help(fibonacci)"
   ]
  },
  {
   "cell_type": "markdown",
   "metadata": {},
   "source": [
    "그 다음 행\n",
    "\n",
    "``f = np.zeros((n, 1))``\n",
    "\n",
    "은 0.0으로 채워진 $n \\times 1$ 배열을 만들어 ``f`` 에 할당한다.  한 열로 이루어진 배열은 열 벡터, 한 행으로 이루어진 배열은 행 벡터로 생각될 수 있다. (``numpy.array`` 와 ``numpy.matrix`` 는 조금 다르다.)\n",
    "\n",
    "다음 두 행\n",
    "\n",
    "``f[0] = 1``\n",
    "\n",
    "``f[1] = 2``\n",
    "\n",
    "는 초기 조건을 제공한다.\n",
    "\n",
    "그 다음은 ``for``문으로 모든 연산을 실시한다.\n",
    "\n",
    "``    for k in range(2, n):``\n",
    "\n",
    ">``        f[k] = f[k - 1] + f[k - 2]``\n",
    "\n",
    "``for`` 문과 ``if`` 문에는 ``:`` 기호와 들여쓰기가 적용된다.\n",
    "\n",
    "마지막 행은 반환값을 ``f``로 지정한다.\n",
    "\n",
    "이 예제는 다른 프로그래밍 언어의 함수와도 유사하다.  벡터를 생성하지만 특별한 벡터 또는 행렬 연산을 사용하지 않고 있다.  그러한 연산은 곧 볼 수 있을 것이다.\n",
    "\n",
    "아래는 또 다른 피보나치 함수이다.  그 반환값은 단순히 ``n`` 번째 피보나치 수 이다."
   ]
  },
  {
   "cell_type": "code",
   "execution_count": 3,
   "metadata": {},
   "outputs": [
    {
     "data": {
      "text/plain": [
       "233"
      ]
     },
     "execution_count": 3,
     "metadata": {},
     "output_type": "execute_result"
    }
   ],
   "source": [
    "def fibnum(n):\n",
    "    \"\"\"\n",
    "    Fibonacci number\n",
    "    generates the nth Fibonacci number.\n",
    "    :param n: \n",
    "    :return: \n",
    "    \"\"\"\n",
    "    if 1 >= n:\n",
    "        f = 1\n",
    "    else:\n",
    "        f = fibnum(n - 1) + fibnum(n - 2)\n",
    "        \n",
    "    return f\n",
    "\n",
    "\n",
    "fibnum(12)"
   ]
  },
  {
   "cell_type": "markdown",
   "metadata": {},
   "source": [
    "``fibnum`` 함수는 *재귀적* 이다. 실은 *재귀적*이라는 용어는 수학과 전산학 모두에서 사용된다. 관계식 $f_n = f_{n-1} +f_{n-2}$ 는 *점화식* 또는 *재귀식* 이라고 알려져 있고, (전산학에서) 스스로 자신을 호출하는 함수는 *재귀 함수*이다.\n",
    "\n",
    "재귀적 프로그램은 멋있어 보이지만 댓가가 따른다. 실행 시간을 측정해 보자."
   ]
  },
  {
   "cell_type": "code",
   "execution_count": 4,
   "metadata": {},
   "outputs": [
    {
     "name": "stdout",
     "output_type": "stream",
     "text": [
      "CPU times: user 32.3 ms, sys: 1.08 ms, total: 33.4 ms\nWall time: 33.1 ms\n"
     ]
    },
    {
     "data": {
      "text/plain": [
       "75025"
      ]
     },
     "execution_count": 4,
     "metadata": {},
     "output_type": "execute_result"
    }
   ],
   "source": [
    "%%time\n",
    "fibnum(24)"
   ]
  },
  {
   "cell_type": "markdown",
   "metadata": {},
   "source": [
    "아래 명령은 실행하지 말기 바란다.\n",
    "\n",
    "``%%time``\n",
    "\n",
    "``fibnum(50)``\n",
    "\n",
    "이제 ``goldfract(6)``과 ``fibonacci(7)``의 결과를 비교해 보자.  전자는 분수 21/13이고 후자는 13 과 21 로 끝난다.  이것은 우연이 아니다. 연분수는 아래 연산을 반복하는데\n",
    "\n",
    "``p = p + q``\n",
    "\n",
    "피보나치 수를 생성하는 식도\n",
    "\n",
    "``f[k] = f[k - 1] + f[k - 2]``\n",
    "\n",
    "이다.  사실 $\\phi_n$ 으로 *n* 항 연분수 황금률을 표시하면 다음과 같다.\n",
    "\n",
    "$$\\frac{f_{n+1}}{f_n} = \\phi_n$$\n",
    "\n",
    "무한 극한에서, 연속되는 피보나치수의 비는 황금률에 수렴한다.\n",
    "\n",
    "$$ \\lim_{x\\to\\infty} \\frac{f_{n+1}}{f_n}=\\phi$$\n",
    "\n",
    "이를 보기 위해 40개의 피보나치 수를 계산한다."
   ]
  },
  {
   "cell_type": "code",
   "execution_count": 5,
   "metadata": {},
   "outputs": [],
   "source": [
    "n = 40\n",
    "f = fibonacci(n)"
   ]
  },
  {
   "cell_type": "code",
   "execution_count": null,
   "metadata": {},
   "outputs": [],
   "source": [
    "np.set_printoptions(15)\n",
    "f[1:] / f[:n-1]"
   ]
  },
  {
   "cell_type": "markdown",
   "metadata": {},
   "source": [
    "이것은 ``f[1]`` (``f``의 두번째 항) 부터 ``f[n-1]`` (``f``의 마지막 항) 까지의 벡터를, 각 요소별로, ``f[0]`` (``f``의 첫번째 항) 부터 ``f[n-2]`` (``f``의 마지막에서 두번째 항) 까지의 벡터로 나누는 것이다. ``n``을 40으로 택한 까닭을 알겠는가? 아래와 같이 황금률과 비교해 볼 수 있다."
   ]
  },
  {
   "cell_type": "code",
   "execution_count": null,
   "metadata": {},
   "outputs": [],
   "source": [
    "phi = (1.0 + 5**0.5) * 0.5\n",
    "f[1:] / f[:n-1] - phi"
   ]
  },
  {
   "cell_type": "markdown",
   "metadata": {},
   "source": [
    "마지막 값은 얼마인가? \n",
    "\n",
    "피보나치의 토끼 우리의 마리수는 매달 두배로 늘어나는 것은 아니다. 매달 황금비율 만큼 늘어난다.\n",
    "\n",
    "피보나치 수에 관한 닫힌 형태의 해를 구하는 것도 가능하다.  요점은 어떤 상수 *c* 와 $\\rho$ 값에 대해 다음과 같은 형태의 해를 찾는 것이다.\n",
    "\n",
    "$$f_n = c \\rho^n$$\n",
    "\n",
    "재귀식\n",
    "\n",
    "$$f_n = f_{n-1} +f_{n-2}$$\n",
    "\n",
    "은 \n",
    "\n",
    "$$\\rho^2 = \\rho + 1$$\n",
    "\n",
    "이 된다.  이 식은 앞에서 본 적이 있다.  가능한 $\\rho$ 값은 두개로 즉 $\\phi$ 와 $1 - \\rho$ 이다. 점화식에 관한 일반해는 다음과 같다\n",
    "\n",
    "$$f_n = c_1 \\phi ^ n + c_2 (1-\\phi)^n $$\n",
    "\n",
    "상수 $c_1$ 과 $c_2$는 초기 조건에 의해 정해지는데 다음과 같이 쓸 수 있다.\n",
    "\n",
    "\\begin{align}\n",
    "f_0 = c_1 + c_2 = 1 \\\\\\\n",
    "f_1 = c_1 \\phi + c_2 (1 - \\phi) = 1\n",
    "\\end{align}\n",
    "\n",
    "행렬 계산 명령으로 풀 수도 있지만, 손으로 푸는 것이 더 쉽다.\n",
    "\n",
    "\\begin{align}\n",
    "c_1 = \\frac{\\phi}{2\\phi - 1} \\\\\\\n",
    "c_2 = -\\frac{(1 - \\phi)}{2\\phi - 1}\n",
    "\\end{align}\n",
    "\n"
   ]
  },
  {
   "cell_type": "code",
   "execution_count": null,
   "metadata": {},
   "outputs": [],
   "source": [
    "import sympy as sy\n",
    "c1, c2, phi = sy.symbols('c1, c2, phi')\n",
    "eq1 = sy.Eq(c1 + c2, 1)\n",
    "eq2 = sy.Eq(c1 * phi + c2 * (1 - phi), 1)\n",
    "sy.solve((eq1, eq2), (c1, c2))"
   ]
  },
  {
   "cell_type": "markdown",
   "metadata": {},
   "source": [
    "$$f_n = \\frac{1}{2\\phi - 1}(\\phi^{n+1}-(1-\\phi)^{n+1})$$"
   ]
  },
  {
   "cell_type": "markdown",
   "metadata": {},
   "source": [
    "이는 놀라운 수식이다. 오른편에 무리수의 제곱과 나눗셈이 포함되어 있지만 결과는 일련의 정수들이다. 여러분도 이 결과를 과학기술 숫자 표시로 확인할 수 있다."
   ]
  },
  {
   "cell_type": "code",
   "execution_count": null,
   "metadata": {},
   "outputs": [],
   "source": [
    "phi = (1.0 + 5**0.5) * 0.5\n",
    "n = np.arange(1, 40.1).reshape((40, 1))\n",
    "f = (phi ** (n+1) - (1 - phi) ** (n+1)) / (2 * phi - 1)\n",
    "f"
   ]
  },
  {
   "cell_type": "code",
   "execution_count": null,
   "metadata": {},
   "outputs": [],
   "source": [
    "f = np.round(f)\n",
    "f"
   ]
  }
 ],
 "metadata": {
  "kernelspec": {
   "display_name": "Python 2",
   "language": "python",
   "name": "python2"
  },
  "language_info": {
   "codemirror_mode": {
    "name": "ipython",
    "version": 2.0
   },
   "file_extension": ".py",
   "mimetype": "text/x-python",
   "name": "python",
   "nbconvert_exporter": "python",
   "pygments_lexer": "ipython2",
   "version": "2.7.6"
  }
 },
 "nbformat": 4,
 "nbformat_minor": 0
}