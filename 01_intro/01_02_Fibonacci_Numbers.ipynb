{
 "cells": [
  {
   "cell_type": "markdown",
   "metadata": {},
   "source": [
    "원문: Moler, Cleve B. Numerical computing with MATLAB. Society for Industrial and Applied Mathematics, 2008."
   ]
  },
  {
   "cell_type": "heading",
   "metadata": {},
   "level": 2,
   "source": [
    "1.2 피보나치 수"
   ]
  },
  {
   "cell_type": "markdown",
   "metadata": {},
   "source": [
    "레오나도 피사노 피보나치는 1170년 무렵 태어나 1250년 오늘날의 이탈리아에 속한 피사에서 세상을 떠났다. 그는 유럽과 북아프리카를 두루 여행했었다. 그는 몇권의 수학 문헌을 썼는데 특히 유럽에 인도-아라비아 숫자를 소개했다. 그의 책은 손으로 배껴썼어야 했지만, 널리 읽혀졌다. 그의 가장 잘 알려진 책 *Liber Abaci* 는 1202년에 출판되었는데, 다음과 같은 문제를 제시하였다.\n",
    "\n",
    ">> *어떤 사람이 한쌍의 토끼를 사방이 벽으로 둘러싸인 장소에 두었다. 그 한쌍으로부터 몇쌍의 토끼가 1년 이내에 태어날 수 있겠는가? 매달 각 쌍이 새로운 한쌍을 낳고, 태어난 후 두달째 부터 새끼를 낳을 수 있다.*\n",
    "\n",
    "오늘날 이 문제의 해는 *피보나치 수열* 또는 *피보나치 수* 로 알려져 있다. 피보나치 수에 기반하는 자그마한 수학적 산업이 있다. \"피보나치\"를 인터넷에서 검색해 보면 수십개의 웹사이트와 수백 페이지의 문헌을 찾을 수 있을 것이다.  피보나치 협회도 있어서 *Fibonacci Quarterly*라는 학술지도 출간한다.\n",
    "\n",
    "피보나치가 새로 태어난 한 쌍이 성장하는데 1달 걸린다는 것을 명시하지 않았다면, 그의 이름을 딴 수열이 존재하지는 않았을 것이다.  매달 단순히 두배로 늘어날 것이다.  *n* 개월 후에는 $2^n$ 쌍의 토끼가 있을 것이다.  토끼의 수는 엄청나게 불어나겠지만, 무언가 수학적으로 독특한 점은 없었을 것이다.\n",
    "\n",
    "$f_n$ 이 *n* 개월 후의 토끼 쌍의 수라고 하자. 요점은 월말의 토끼의 수는 월초의 토끼의 수에 성장한 쌍이 낳은 수를 합한 것이라는 것이다:\n",
    "\n",
    "$f_n = f_{n-1} + f_{n-2}$\n",
    "\n",
    "초기 조건은 첫 달에는 한쌍의 토끼가 있고, 둘째 달에는 두쌍이 있다는 것이다.\n",
    "\n",
    "$f_1 = 1, f_2 = 2$\n"
   ]
  },
  {
   "cell_type": "code",
   "execution_count": 1,
   "metadata": {},
   "outputs": [
    {
     "data": {
      "text/plain": [
       "array([[   1.],\n       [   2.],\n       [   3.],\n       [   5.],\n       [   8.],\n       [  13.],\n       [  21.],\n       [  34.],\n       [  55.],\n       [  89.],\n       [ 144.],\n       [ 233.]])"
      ]
     },
     "execution_count": 1,
     "metadata": {},
     "output_type": "execute_result"
    }
   ],
   "source": [
    "import numpy as np\n",
    "\n",
    "\n",
    "def fibonacci(n):\n",
    "    \"\"\"\n",
    "    Fibonacci sequence\n",
    "    generates the first n Fibonacci numbers\n",
    "    :param n: \n",
    "    :return: \n",
    "    \"\"\"\n",
    "    \n",
    "    f = np.zeros((n, 1))\n",
    "    f[0] = 1\n",
    "    f[1] = 2\n",
    "    for k in range(2, n):\n",
    "        f[k] = f[k - 1] + f[k - 2]\n",
    "    \n",
    "    return f\n",
    "\n",
    "\n",
    "fibonacci(12)"
   ]
  },
  {
   "cell_type": "markdown",
   "metadata": {},
   "source": [
    "답은 233 쌍이라는 것이다. (만일 매달 두배로 12달 동안 늘어났다면 4096 쌍이 될 것이다)\n",
    "\n",
    "함수를 자세히 살펴보자. 첫 행은 \n",
    "\n",
    "``import numpy as np``\n",
    "\n",
    "으로 ``numpy`` 라는 기능 module 을 ``np`` 라는 이름으로 불러 들인다. 그 다음 행은\n",
    "\n",
    "``def fibonacci(n):``\n",
    "\n",
    "이다.  첫번째 단어는 이것이 함수 선언의 시작임을 알린다. 나머지 부분은 함수의 이름과 이 함수가 한개의 입력 매개변수 ``n`` 을 받아들인다는 점을 표시한다. 그 다음에는 ``help`` 에 표시되는 내용을 담고 있다."
   ]
  },
  {
   "cell_type": "code",
   "execution_count": 2,
   "metadata": {},
   "outputs": [
    {
     "name": "stdout",
     "output_type": "stream",
     "text": [
      "Help on function fibonacci in module __main__:\n\nfibonacci(n)\n    Fibonacci sequence\n    generates the first n Fibonacci numbers\n    :param n: \n    :return:\n\n"
     ]
    }
   ],
   "source": [
    "help(fibonacci)"
   ]
  },
  {
   "cell_type": "markdown",
   "metadata": {},
   "source": [
    "그 다음 행\n",
    "\n",
    "``f = np.zeros((n, 1))``\n",
    "\n",
    "은 0.0으로 채워진 $n \\times 1$ 배열을 만들어 ``f`` 에 할당한다.  한 열로 이루어진 배열은 열 벡터, 한 행으로 이루어진 배열은 행 벡터로 생각될 수 있다"
   ]
  }
 ],
 "metadata": {
  "kernelspec": {
   "display_name": "Python 2",
   "language": "python",
   "name": "python2"
  },
  "language_info": {
   "codemirror_mode": {
    "name": "ipython",
    "version": 2.0
   },
   "file_extension": ".py",
   "mimetype": "text/x-python",
   "name": "python",
   "nbconvert_exporter": "python",
   "pygments_lexer": "ipython2",
   "version": "2.7.6"
  }
 },
 "nbformat": 4,
 "nbformat_minor": 0
}