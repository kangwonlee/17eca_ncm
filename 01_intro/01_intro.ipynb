{
 "cells": [
  {
   "cell_type": "code",
   "execution_count": 1,
   "metadata": {},
   "outputs": [],
   "source": [
    "from IPython.core.interactiveshell import InteractiveShell\n",
    "InteractiveShell.ast_node_interactivity = \"all\""
   ]
  },
  {
   "cell_type": "heading",
   "metadata": {},
   "level": 2,
   "source": [
    "1.1 황금률"
   ]
  },
  {
   "cell_type": "markdown",
   "metadata": {},
   "source": [
    "세상에서 가장 흥미 있는 숫자는 어떤 것일까? 아마도 여러분 가운데는 원주율, 자연대수, 또는 17을 좋아하는 사람들이 있을 것이다. 어떤 사람은 phi, 즉 황금률을 선택할 수도 있다. 아래 계산식은 황금률을 계산하는 것이다."
   ]
  },
  {
   "cell_type": "code",
   "execution_count": 2,
   "metadata": {},
   "outputs": [
    {
     "name": "stdout",
     "output_type": "stream",
     "text": [
      "1.61803\n"
     ]
    }
   ],
   "source": [
    "phi = (1 + 5 ** 0.5) * 0.5\n",
    "print('%g' % phi)"
   ]
  },
  {
   "cell_type": "markdown",
   "metadata": {},
   "source": [
    "더 많은 자릿수를 표시해 보자"
   ]
  },
  {
   "cell_type": "code",
   "execution_count": 4,
   "metadata": {},
   "outputs": [
    {
     "name": "stdout",
     "output_type": "stream",
     "text": [
      "1.618033988749895\n"
     ]
    }
   ],
   "source": [
    "print('%17.16g' % phi)"
   ]
  },
  {
   "cell_type": "markdown",
   "metadata": {},
   "source": [
    "바로 위에서는 phi 를 새로 계산한 것이 아니고, 유효숫자를 16자리로 표시한 것이다.\n",
    "황금률은 수학에서 자주 나타난다. 여기서도 자주 나타날 것이다.  황금률은 황금 직사각형에서 유래하였는데, 그림 1.1 에 표시되어 있다. 황금 직사각형에서 정사각형 부분을 제거하면 닮은꼴인 직사각형이 남는다."
   ]
  },
  {
   "cell_type": "code",
   "execution_count": 13,
   "metadata": {},
   "outputs": [
    {
     "data": {
      "text/plain": [
       "<matplotlib.patches.Rectangle at 0x2530f9cc278>"
      ]
     },
     "execution_count": 13,
     "metadata": {},
     "output_type": "execute_result"
    },
    {
     "data": {
      "text/plain": [
       "<matplotlib.patches.Rectangle at 0x2530f9e5e10>"
      ]
     },
     "execution_count": 13,
     "metadata": {},
     "output_type": "execute_result"
    },
    {
     "data": {
      "text/plain": [
       "(-0.088991869381244232, 1.8688292570061287, -0.055000000000000007, 1.155)"
      ]
     },
     "execution_count": 13,
     "metadata": {},
     "output_type": "execute_result"
    },
    {
     "data": {
      "image/png": "[encoded data removed]",
      "text/plain": [
       "<matplotlib.figure.Figure at 0x2530f994e80>"
      ]
     },
     "metadata": {},
     "output_type": "display_data"
    }
   ],
   "source": [
    "import matplotlib.pyplot as plt\n",
    "import matplotlib.patches as patches\n",
    "\n",
    "ax = plt.gca()\n",
    "ax.cla()\n",
    "\n",
    "phi = (1 + 5 ** 0.5) * 0.5\n",
    "\n",
    "# add a rectangle\n",
    "rect = patches.Rectangle((0.0, 0.0), phi, 1.0,)\n",
    "rect_margin = patches.Rectangle((0.0, 0.0), phi * 1.1, 1.1, fill=False, edgecolor=\"none\")\n",
    "ax.add_patch(rect)\n",
    "ax.add_patch(rect_margin)\n",
    "plt.axis('equal')\n",
    "plt.grid(True)\n",
    "plt.show()"
   ]
  },
  {
   "cell_type": "markdown",
   "metadata": {},
   "source": [
    ""
   ]
  }
 ],
 "metadata": {
  "kernelspec": {
   "display_name": "Python 2",
   "language": "python",
   "name": "python2"
  },
  "language_info": {
   "codemirror_mode": {
    "name": "ipython",
    "version": 2.0
   },
   "file_extension": ".py",
   "mimetype": "text/x-python",
   "name": "python",
   "nbconvert_exporter": "python",
   "pygments_lexer": "ipython2",
   "version": "2.7.6"
  }
 },
 "nbformat": 4,
 "nbformat_minor": 0
}