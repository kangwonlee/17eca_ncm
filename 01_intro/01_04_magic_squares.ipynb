{
 "cells": [
  {
   "cell_type": "markdown",
   "metadata": {},
   "source": [
    "원문: Moler, Cleve B. Numerical computing with MATLAB. Society for Industrial and Applied Mathematics, 2008."
   ]
  },
  {
   "cell_type": "markdown",
   "metadata": {},
   "source": [
    "# 1.4 마방진"
   ]
  },
  {
   "cell_type": "markdown",
   "metadata": {},
   "source": [
    "마방진은 흥미로운 예제 행렬이다."
   ]
  },
  {
   "cell_type": "code",
   "execution_count": 1,
   "metadata": {
    "collapsed": false
   },
   "outputs": [
    {
     "data": {
      "text/plain": [
       "matrix([[8, 1, 6],\n        [3, 5, 7],\n        [4, 9, 2]])"
      ]
     },
     "execution_count": 1,
     "metadata": {},
     "output_type": "execute_result"
    }
   ],
   "source": [
    "import numpy as np\n",
    "\n",
    "\n",
    "def magic(N):\n",
    "    if (N % 2):\n",
    "        result = magic_odd(N)\n",
    "    else:\n",
    "        result = magic_even(N)\n",
    "    return result\n",
    "\n",
    "\n",
    "def magic_odd(N):\n",
    "    # scipython.com/book/chapter-6-numpy/examples/creating-a-magic-square/\n",
    "    magic_square = np.matrix(np.zeros((N, N), dtype=int))\n",
    "    \n",
    "    n = 1\n",
    "    i, j = 0, N//2\n",
    "    \n",
    "    while n <= N ** 2:\n",
    "        magic_square[i, j] = n\n",
    "        n += 1\n",
    "        newi, newj = (i - 1) % N, (j + 1) % N\n",
    "        if magic_square[newi, newj]:\n",
    "            i += 1\n",
    "        else:\n",
    "            i, j = newi, newj\n",
    "    \n",
    "    return magic_square\n",
    "\n",
    "\n",
    "def magic_even(N):\n",
    "    # https://m.blog.naver.com/askmrkwon/220768685076 (in Korean)\n",
    "    magic_ascending = np.array(range(1, N**2 + 1)).reshape((N, N))\n",
    "    magic_descending = np.array(range(N**2, 0, -1)).reshape((N, N))\n",
    "    \n",
    "    print(magic_ascending)\n",
    "    print(magic_descending)\n",
    "\n",
    "A = magic(3)\n",
    "A"
   ]
  },
  {
   "cell_type": "markdown",
   "metadata": {},
   "source": [
    "아래 명령은 모든 요소의 합을 계산한다."
   ]
  },
  {
   "cell_type": "code",
   "execution_count": 2,
   "metadata": {},
   "outputs": [
    {
     "data": {
      "text/plain": [
       "45"
      ]
     },
     "execution_count": 2,
     "metadata": {},
     "output_type": "execute_result"
    }
   ],
   "source": [
    "np.sum(A)"
   ]
  },
  {
   "cell_type": "markdown",
   "metadata": {},
   "source": [
    "각 열의 합은 아래 명령으로 계산한다."
   ]
  },
  {
   "cell_type": "code",
   "execution_count": 3,
   "metadata": {},
   "outputs": [
    {
     "data": {
      "text/plain": [
       "matrix([[15, 15, 15]])"
      ]
     },
     "execution_count": 3,
     "metadata": {},
     "output_type": "execute_result"
    }
   ],
   "source": [
    "np.sum(A, 0)"
   ]
  },
  {
   "cell_type": "markdown",
   "metadata": {},
   "source": [
    "각 행의 합은 다음과 같이 구한다."
   ]
  },
  {
   "cell_type": "code",
   "execution_count": 4,
   "metadata": {},
   "outputs": [
    {
     "data": {
      "text/plain": [
       "matrix([[15],\n        [15],\n        [15]])"
      ]
     },
     "execution_count": 4,
     "metadata": {},
     "output_type": "execute_result"
    }
   ],
   "source": [
    "np.sum(A, 1)"
   ]
  },
  {
   "cell_type": "markdown",
   "metadata": {},
   "source": [
    "다음은 주대각선의 합을 계산한다."
   ]
  },
  {
   "cell_type": "code",
   "execution_count": 5,
   "metadata": {},
   "outputs": [
    {
     "data": {
      "text/plain": [
       "15"
      ]
     },
     "execution_count": 5,
     "metadata": {},
     "output_type": "execute_result"
    }
   ],
   "source": [
    "np.sum(np.diag(A))"
   ]
  },
  {
   "cell_type": "markdown",
   "metadata": {},
   "source": [
    "반 대각선은 오른쪽 위에서 왼쪽 아래를 잇는 대각선으로, 선형 대수에서는 중요성이 덜하기 때문에, 합을 구하는 절차가 다소 복잡히다. 한가지 방법은 행렬을 위아래로 뒤집는 함수를 사용하는 것이다."
   ]
  },
  {
   "cell_type": "code",
   "execution_count": 6,
   "metadata": {},
   "outputs": [
    {
     "data": {
      "text/plain": [
       "15"
      ]
     },
     "execution_count": 6,
     "metadata": {},
     "output_type": "execute_result"
    }
   ],
   "source": [
    "np.sum(np.diag(np.flipud (A)))"
   ]
  },
  {
   "cell_type": "markdown",
   "metadata": {},
   "source": [
    "따라서 모든 합이 같다는 것을 확인할 수 있다.\n",
    "\n",
    "왜 합은 15인가? 아래 명령"
   ]
  },
  {
   "cell_type": "code",
   "execution_count": 7,
   "metadata": {},
   "outputs": [
    {
     "data": {
      "text/plain": [
       "45"
      ]
     },
     "execution_count": 7,
     "metadata": {},
     "output_type": "execute_result"
    }
   ],
   "source": [
    "sum(np.arange(1, 9+1))"
   ]
  },
  {
   "cell_type": "markdown",
   "metadata": {},
   "source": [
    "은 1 부터 9 까지의 정수의 합이 45임을 말한다. 이 정수들이 3 열에 나누어지고 합계가 같다면 그 합은"
   ]
  },
  {
   "cell_type": "code",
   "execution_count": 8,
   "metadata": {},
   "outputs": [
    {
     "data": {
      "text/plain": [
       "15.0"
      ]
     },
     "execution_count": 8,
     "metadata": {},
     "output_type": "execute_result"
    }
   ],
   "source": [
    "sum(np.arange(1, 9+1)) / 3"
   ]
  },
  {
   "cell_type": "markdown",
   "metadata": {},
   "source": [
    "15가 될 것이다.\n",
    "\n",
    "OHP 에 투명지를 올려놓는 방법은 모두 8가지가 있다. 비슷하게, 3렬의 마방진을 배열하는 8가지 방법이 있다.  아래 명령은 각각의 방법을 모두 표시한다."
   ]
  },
  {
   "cell_type": "code",
   "execution_count": 9,
   "metadata": {},
   "outputs": [
    {
     "name": "stdout",
     "output_type": "stream",
     "text": [
      "[[8 1 6]\n [3 5 7]\n [4 9 2]]\n[[8 3 4]\n [1 5 9]\n [6 7 2]]\n[[6 7 2]\n [1 5 9]\n [8 3 4]]\n[[4 9 2]\n [3 5 7]\n [8 1 6]]\n[[2 9 4]\n [7 5 3]\n [6 1 8]]\n[[2 7 6]\n [9 5 1]\n [4 3 8]]\n[[4 3 8]\n [9 5 1]\n [2 7 6]]\n[[6 1 8]\n [7 5 3]\n [2 9 4]]\n"
     ]
    }
   ],
   "source": [
    "for k in range(0, 4):\n",
    "    print(np.rot90(A, k))\n",
    "    print(np.rot90(A.T, k))"
   ]
  },
  {
   "cell_type": "markdown",
   "metadata": {},
   "source": [
    "이제 선형 대수를 좀 살펴보자. 행렬식은 다음과 같다."
   ]
  },
  {
   "cell_type": "code",
   "execution_count": 10,
   "metadata": {},
   "outputs": [
    {
     "data": {
      "text/plain": [
       "-359.99999999999972"
      ]
     },
     "execution_count": 10,
     "metadata": {},
     "output_type": "execute_result"
    }
   ],
   "source": [
    "import numpy.linalg as na\n",
    "na.det(A)"
   ]
  },
  {
   "cell_type": "markdown",
   "metadata": {},
   "source": [
    "역행렬은"
   ]
  },
  {
   "cell_type": "code",
   "execution_count": 11,
   "metadata": {},
   "outputs": [
    {
     "data": {
      "text/plain": [
       "matrix([[ 0.14722222, -0.14444444,  0.06388889],\n        [-0.06111111,  0.02222222,  0.10555556],\n        [-0.01944444,  0.18888889, -0.10277778]])"
      ]
     },
     "execution_count": 11,
     "metadata": {},
     "output_type": "execute_result"
    }
   ],
   "source": [
    "X = A.I\n",
    "X"
   ]
  },
  {
   "cell_type": "markdown",
   "metadata": {},
   "source": [
    "이다. 분수 형태로 표시할 수 있다면 더 좋다."
   ]
  },
  {
   "cell_type": "code",
   "execution_count": 12,
   "metadata": {},
   "outputs": [
    {
     "name": "stdout",
     "output_type": "stream",
     "text": [
      "[[53/360 -13/90 23/360]\n [-11/180 1/45 19/180]\n [-7/360 17/90 -37/360]]\n"
     ]
    }
   ],
   "source": [
    "import fractions\n",
    "np.set_printoptions(formatter={'all': lambda x: str(fractions.Fraction(x).limit_denominator())})\n",
    "print(X)"
   ]
  },
  {
   "cell_type": "markdown",
   "metadata": {},
   "source": [
    "아래와 같이 하면 원상 복귀 될 것이다."
   ]
  },
  {
   "cell_type": "code",
   "execution_count": 13,
   "metadata": {},
   "outputs": [],
   "source": [
    "np.set_printoptions(formatter=None)"
   ]
  },
  {
   "cell_type": "markdown",
   "metadata": {},
   "source": [
    "전산 선형 대수에서 중요한 3가지 값으로 행렬의 놂, 고유치, 특이값 등이 있다."
   ]
  },
  {
   "cell_type": "code",
   "execution_count": 23,
   "metadata": {},
   "outputs": [
    {
     "name": "stdout",
     "output_type": "stream",
     "text": [
      "r =\n15.0\ne =\n[ 15.           4.89897949  -4.89897949]\ns =\n[ 15.           6.92820323   3.46410162]\n"
     ]
    }
   ],
   "source": [
    "r = na.norm(A, np.inf)\n",
    "e, w = na.eig(A)\n",
    "u, s, v_h = na.svd(A)\n",
    "print('r =')\n",
    "print(r)\n",
    "print('e =')\n",
    "print(e)\n",
    "print('s =')\n",
    "print(s)"
   ]
  },
  {
   "cell_type": "markdown",
   "metadata": {},
   "source": [
    "마방진의 한 열의 합은 위 3 값에서 모두 나타난다. 고유 벡터 (아래의 w), 좌 우 특이 벡터 (각각 아래의 u, v) 가운데 하나는 모두 1인 것이 있기 때문이다. (w, u, v 의 각 열 가운데 하나씩은 모든 항의 값이 같음)"
   ]
  },
  {
   "cell_type": "code",
   "execution_count": 24,
   "metadata": {},
   "outputs": [
    {
     "name": "stdout",
     "output_type": "stream",
     "text": [
      "w =\n[[-0.57735027 -0.81305253 -0.34164801]\n [-0.57735027  0.47140452 -0.47140452]\n [-0.57735027  0.34164801  0.81305253]]\nu =\n[[ -5.77350269e-01   7.07106781e-01   4.08248290e-01]\n [ -5.77350269e-01   5.96744876e-15  -8.16496581e-01]\n [ -5.77350269e-01  -7.07106781e-01   4.08248290e-01]]\nv =\n[[ -5.77350269e-01   4.08248290e-01   7.07106781e-01]\n [ -5.77350269e-01  -8.16496581e-01  -1.16573418e-14]\n [ -5.77350269e-01   4.08248290e-01  -7.07106781e-01]]\n"
     ]
    }
   ],
   "source": [
    "print('w =')\n",
    "print(w)\n",
    "print('u =')\n",
    "print(u)\n",
    "print('v =')\n",
    "print(v_h.H)"
   ]
  },
  {
   "cell_type": "markdown",
   "metadata": {},
   "source": [
    "지금까지 이 절의 모든 연산은 부동소숫점이었다. 대부분의 과학 기술 계산, 특히 큰 행렬의 연산은 이렇게 한다. 하지만 $3\\times3$"
   ]
  },
  {
   "cell_type": "code",
   "execution_count": 22,
   "metadata": {},
   "outputs": [
    {
     "data": {
      "text/plain": [
       "Matrix([\n[8.0, 1.0, 6.0],\n[3.0, 5.0, 7.0],\n[4.0, 9.0, 2.0]])"
      ]
     },
     "execution_count": 22,
     "metadata": {},
     "output_type": "execute_result"
    }
   ],
   "source": [
    "import sympy as sy\n",
    "\n",
    "A = sy.Matrix(A)\n",
    "A"
   ]
  },
  {
   "cell_type": "code",
   "execution_count": 28,
   "metadata": {},
   "outputs": [
    {
     "name": "stdout",
     "output_type": "stream",
     "text": [
      "np.sum(A) = 45.0000000000000\nnp.sum(A, 0) = array([15.0000000000000, 15.0000000000000, 15.0000000000000], dtype=object)\nnp.sum(A, 1) = array([15.0000000000000, 15.0000000000000, 15.0000000000000], dtype=object)\nsy.det(A) = -360.000000000000\nA.eigenvals() = {2*sqrt(6): 1, -2*sqrt(6): 1, 15: 1}\nA.singular_values() = [4*sqrt(3), 2*sqrt(3), 15]\n"
     ]
    }
   ],
   "source": [
    "print('np.sum(A) = %r' % np.sum(A))\n",
    "print('np.sum(A, 0) = %r' % np.sum(A, 0))\n",
    "print('np.sum(A, 1) = %r' % np.sum(A, 1))\n",
    "print('sy.det(A) = %r' % sy.det(A))\n",
    "print('A.eigenvals() = %r' % A.eigenvals())\n",
    "print('A.singular_values() = %r' % A.singular_values())"
   ]
  },
  {
   "cell_type": "markdown",
   "metadata": {},
   "source": [
    ""
   ]
  }
 ],
 "metadata": {
  "anaconda-cloud": {},
  "kernelspec": {
   "display_name": "Python [conda root]",
   "language": "python",
   "name": "conda-root-py"
  },
  "language_info": {
   "codemirror_mode": {
    "name": "ipython",
    "version": 3.0
   },
   "file_extension": ".py",
   "mimetype": "text/x-python",
   "name": "python",
   "nbconvert_exporter": "python",
   "pygments_lexer": "ipython3",
   "version": "3.5.2"
  }
 },
 "nbformat": 4,
 "nbformat_minor": 0
}