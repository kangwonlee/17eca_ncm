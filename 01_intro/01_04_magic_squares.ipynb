{
 "cells": [
  {
   "cell_type": "markdown",
   "metadata": {},
   "source": [
    "원문: Moler, Cleve B. Numerical computing with MATLAB. Society for Industrial and Applied Mathematics, 2008."
   ]
  },
  {
   "cell_type": "markdown",
   "metadata": {},
   "source": [
    "# 1.4 마방진"
   ]
  },
  {
   "cell_type": "markdown",
   "metadata": {},
   "source": [
    "마방진으로 흥미로운 예제 행렬을 만들 수 있다."
   ]
  },
  {
   "cell_type": "code",
   "execution_count": null,
   "metadata": {
    "collapsed": false
   },
   "outputs": [],
   "source": [
    "import numpy as np\n",
    "\n",
    "\n",
    "def magic(N):\n",
    "    if (N % 2):\n",
    "        result = magic_odd(N)\n",
    "    elif 0 == (N % 4):\n",
    "        result = magic_four(N)\n",
    "    elif (N % 4):\n",
    "        result = magic_even_odd(N)\n",
    "    else:\n",
    "        raise NotImplementedError\n",
    "\n",
    "    # check result\n",
    "    assert_magic_square(result, N)\n",
    "\n",
    "    return result\n",
    "\n",
    "\n",
    "def magic_odd(N):\n",
    "    # scipython.com/book/chapter-6-numpy/examples/creating-a-magic-square/\n",
    "    magic_square = np.matrix(np.zeros((N, N), dtype=int))\n",
    "\n",
    "    n = 1\n",
    "    i, j = 0, N // 2\n",
    "\n",
    "    while n <= N ** 2:\n",
    "        magic_square[i, j] = n\n",
    "        n += 1\n",
    "        newi, newj = (i - 1) % N, (j + 1) % N\n",
    "        if magic_square[newi, newj]:\n",
    "            i += 1\n",
    "        else:\n",
    "            i, j = newi, newj\n",
    "\n",
    "    return magic_square\n",
    "\n",
    "\n",
    "def magic_four(N):\n",
    "    # https://m.blog.naver.com/askmrkwon/220768685076 (in Korean)\n",
    "    magic_ascending = np.array(range(1, N ** 2 + 1), dtype=int).reshape((N, N))\n",
    "    magic_descending = np.array(range(N ** 2, 0, -1), dtype=int).reshape((N, N))\n",
    "    magic_four_mat = np.matrix(np.zeros((N, N)), dtype=int)\n",
    "\n",
    "    for i_row in range(0, N):\n",
    "        for j_col in range(0, N):\n",
    "            if (0 == (abs(i_row - j_col) % 4)) or (0 == (i_row + j_col + 1) % 4):\n",
    "                magic_four_mat[i_row, j_col] = magic_descending[i_row, j_col]\n",
    "            else:\n",
    "                magic_four_mat[i_row, j_col] = magic_ascending[i_row, j_col]\n",
    "\n",
    "    assert 0 < magic_four_mat.min()\n",
    "\n",
    "    return magic_four_mat\n",
    "\n",
    "\n",
    "def magic_even_odd(even):\n",
    "    # https://m.blog.naver.com/askmrkwon/220768685076 (in Korean)\n",
    "\n",
    "    assert 0 == (even % 2)\n",
    "\n",
    "    odd = even // 2  # 2n + 1\n",
    "\n",
    "    assert (odd % 2)\n",
    "\n",
    "    upper_left = magic_odd(odd)\n",
    "    lower_right = upper_left + (odd * odd)\n",
    "    upper_right = lower_right + (odd * odd)\n",
    "    lower_left = upper_right + (odd * odd)\n",
    "\n",
    "    assert upper_left.min() == 1\n",
    "    assert upper_left.max() == odd * odd\n",
    "\n",
    "    assert lower_right.min() == upper_left.max() + 1\n",
    "    assert lower_right.max() == odd * odd * 2\n",
    "\n",
    "    assert upper_right.min() == lower_right.max() + 1\n",
    "    assert upper_right.max() == odd * odd * 3\n",
    "\n",
    "    assert lower_left.min() == upper_right.max() + 1\n",
    "    assert lower_left.max() == even * even\n",
    "\n",
    "    n = (odd - 1) // 2\n",
    "\n",
    "    # exchange left\n",
    "    temp = upper_left[:, 0:n].copy()\n",
    "    upper_left[:, 0:n] = lower_left[:, 0:n]\n",
    "    lower_left[:, 0:n] = temp\n",
    "\n",
    "    # exchange right\n",
    "    if 1 < n :\n",
    "        temp = upper_right[:, -(n - 1):].copy()\n",
    "        upper_right[:, -(n - 1):] = lower_right[:, -(n - 1):]\n",
    "        lower_right[:, -(n - 1):] = temp\n",
    "\n",
    "    # exchange left middle\n",
    "    temp = upper_left[n, (n - 1):(n + 1)].copy()\n",
    "    upper_left[n, (n - 1):(n + 1)] = lower_left[n, (n - 1):(n + 1)]\n",
    "    lower_left[n, (n - 1):(n + 1)] = temp\n",
    "\n",
    "    result = np.row_stack((np.column_stack((upper_left, upper_right)),\n",
    "                           np.column_stack((lower_left, lower_right))))\n",
    "\n",
    "    # check result\n",
    "    assert_magic_square(result, even)\n",
    "\n",
    "    return result\n",
    "\n",
    "\n",
    "def assert_magic_square(mat, n):\n",
    "    # check result\n",
    "    magic_sum = np.sum(mat) / n\n",
    "    row_sum_vector = np.sum(mat, 0)\n",
    "    col_sum_vector = np.sum(mat, 1)\n",
    "    assert np.abs(row_sum_vector - magic_sum).max() < 1e-7\n",
    "    assert np.abs(row_sum_vector - magic_sum).min() < 1e-7\n",
    "    assert np.abs(col_sum_vector - magic_sum).max() < 1e-7\n",
    "    assert np.abs(col_sum_vector - magic_sum).min() < 1e-7\n",
    "\n",
    "\n",
    "A = magic(3)\n",
    "A"
   ]
  },
  {
   "cell_type": "markdown",
   "metadata": {},
   "source": [
    "아래 명령은 모든 요소의 합을 계산한다."
   ]
  },
  {
   "cell_type": "code",
   "execution_count": null,
   "metadata": {
    "collapsed": false
   },
   "outputs": [],
   "source": [
    "np.sum(A)"
   ]
  },
  {
   "cell_type": "markdown",
   "metadata": {},
   "source": [
    "각 열의 합은 아래 명령으로 계산한다."
   ]
  },
  {
   "cell_type": "code",
   "execution_count": null,
   "metadata": {
    "collapsed": false
   },
   "outputs": [],
   "source": [
    "np.sum(A, 0)"
   ]
  },
  {
   "cell_type": "markdown",
   "metadata": {},
   "source": [
    "각 행의 합은 다음과 같이 구한다."
   ]
  },
  {
   "cell_type": "code",
   "execution_count": null,
   "metadata": {
    "collapsed": false
   },
   "outputs": [],
   "source": [
    "np.sum(A, 1)"
   ]
  },
  {
   "cell_type": "markdown",
   "metadata": {},
   "source": [
    "다음은 주대각선의 합을 계산한다."
   ]
  },
  {
   "cell_type": "code",
   "execution_count": null,
   "metadata": {
    "collapsed": false
   },
   "outputs": [],
   "source": [
    "np.sum(np.diag(A))"
   ]
  },
  {
   "cell_type": "markdown",
   "metadata": {},
   "source": [
    "반 대각선은 오른쪽 위에서 왼쪽 아래를 잇는 대각선으로, 선형 대수에서는 중요성이 덜하기 때문에, 합을 구하는 절차가 다소 복잡히다. 한가지 방법은 행렬을 위아래로 뒤집는 함수를 사용하는 것이다."
   ]
  },
  {
   "cell_type": "code",
   "execution_count": null,
   "metadata": {
    "collapsed": false
   },
   "outputs": [],
   "source": [
    "np.sum(np.diag(np.flipud (A)))"
   ]
  },
  {
   "cell_type": "markdown",
   "metadata": {},
   "source": [
    "따라서 모든 합이 같다는 것을 확인할 수 있다.\n",
    "\n",
    "왜 합은 15인가? 아래 명령"
   ]
  },
  {
   "cell_type": "code",
   "execution_count": null,
   "metadata": {
    "collapsed": false
   },
   "outputs": [],
   "source": [
    "sum(np.arange(1, 9+1))"
   ]
  },
  {
   "cell_type": "markdown",
   "metadata": {},
   "source": [
    "은 1 부터 9 까지의 정수의 합이 45임을 말한다. 이 정수들이 3 열에 나누어지고 합계가 같다면 그 합은"
   ]
  },
  {
   "cell_type": "code",
   "execution_count": null,
   "metadata": {
    "collapsed": false
   },
   "outputs": [],
   "source": [
    "sum(np.arange(1, 9+1)) / 3"
   ]
  },
  {
   "cell_type": "markdown",
   "metadata": {},
   "source": [
    "15가 될 것이다.\n",
    "\n",
    "OHP 에 투명지를 올려놓는 방법은 모두 8가지가 있다. 비슷하게, 3렬의 마방진을 배열하는 8가지 방법이 있다.  아래 명령은 각각의 방법을 모두 표시한다."
   ]
  },
  {
   "cell_type": "code",
   "execution_count": null,
   "metadata": {
    "collapsed": false
   },
   "outputs": [],
   "source": [
    "for k in range(0, 4):\n",
    "    print(np.rot90(A, k))\n",
    "    print(np.rot90(A.T, k))"
   ]
  },
  {
   "cell_type": "markdown",
   "metadata": {},
   "source": [
    "이제 선형 대수를 좀 살펴보자. 행렬식은 다음과 같다."
   ]
  },
  {
   "cell_type": "code",
   "execution_count": null,
   "metadata": {
    "collapsed": false
   },
   "outputs": [],
   "source": [
    "import numpy.linalg as na\n",
    "na.det(A)"
   ]
  },
  {
   "cell_type": "markdown",
   "metadata": {},
   "source": [
    "역행렬은"
   ]
  },
  {
   "cell_type": "code",
   "execution_count": null,
   "metadata": {
    "collapsed": false
   },
   "outputs": [],
   "source": [
    "X = A.I\n",
    "X"
   ]
  },
  {
   "cell_type": "markdown",
   "metadata": {},
   "source": [
    "이다. 분수 형태로 표시할 수 있다면 더 좋다."
   ]
  },
  {
   "cell_type": "code",
   "execution_count": null,
   "metadata": {
    "collapsed": false
   },
   "outputs": [],
   "source": [
    "import fractions\n",
    "np.set_printoptions(formatter={'all': lambda x: str(fractions.Fraction(x).limit_denominator())})\n",
    "print(X)"
   ]
  },
  {
   "cell_type": "markdown",
   "metadata": {},
   "source": [
    "아래와 같이 하면 원상 복귀 될 것이다."
   ]
  },
  {
   "cell_type": "code",
   "execution_count": null,
   "metadata": {
    "collapsed": true
   },
   "outputs": [],
   "source": [
    "np.set_printoptions(formatter=None)"
   ]
  },
  {
   "cell_type": "markdown",
   "metadata": {},
   "source": [
    "전산 선형 대수에서 중요한 3가지 값으로 행렬의 놂, 고유치, 특이값 등이 있다."
   ]
  },
  {
   "cell_type": "code",
   "execution_count": null,
   "metadata": {
    "collapsed": false
   },
   "outputs": [],
   "source": [
    "r = na.norm(A, np.inf)\n",
    "e, w = na.eig(A)\n",
    "u, s, v_h = na.svd(A)\n",
    "print('r =')\n",
    "print(r)\n",
    "print('e =')\n",
    "print(e)\n",
    "print('s =')\n",
    "print(s)"
   ]
  },
  {
   "cell_type": "markdown",
   "metadata": {},
   "source": [
    "마방진의 한 열의 합은 위 3 값에서 모두 나타난다. 고유 벡터 (아래의 w), 좌 우 특이 벡터 (각각 아래의 u, v) 가운데 하나는 모두 1인 것이 있기 때문이다. (w, u, v 의 각 열 가운데 하나씩은 모든 항의 값이 같음)"
   ]
  },
  {
   "cell_type": "code",
   "execution_count": null,
   "metadata": {
    "collapsed": false
   },
   "outputs": [],
   "source": [
    "print('w =')\n",
    "print(w)\n",
    "print('u =')\n",
    "print(u)\n",
    "print('v =')\n",
    "print(v_h.H)"
   ]
  },
  {
   "cell_type": "markdown",
   "metadata": {},
   "source": [
    "지금까지 이 절의 모든 연산은 부동소숫점이었다. 대부분의 과학 기술 계산, 특히 큰 행렬의 연산은 이렇게 한다. 하지만 $3\\times3$ 행렬 정도 라면 기호 연산도 용이하다."
   ]
  },
  {
   "cell_type": "code",
   "execution_count": null,
   "metadata": {
    "collapsed": false
   },
   "outputs": [],
   "source": [
    "import sympy as sy\n",
    "\n",
    "A = sy.Matrix(A)\n",
    "A"
   ]
  },
  {
   "cell_type": "code",
   "execution_count": null,
   "metadata": {
    "collapsed": false
   },
   "outputs": [],
   "source": [
    "print('np.sum(A) = %r' % np.sum(A))\n",
    "print('np.sum(A, 0) = %r' % np.sum(A, 0))\n",
    "print('np.sum(A, 1) = %r' % np.sum(A, 1))\n",
    "print('sy.det(A) = %r' % sy.det(A))\n",
    "print('A.eigenvals() = %r' % A.eigenvals())\n",
    "print('A.singular_values() = %r' % A.singular_values())"
   ]
  },
  {
   "cell_type": "markdown",
   "metadata": {},
   "source": [
    "$4\\times4$ 마방진은 르네상스 시대 알브레히트 뒤러의 동판화 *멜랑콜리아* 에 표현된 여러 수학적 오브제 가운데 하나이다."
   ]
  },
  {
   "cell_type": "code",
   "execution_count": null,
   "metadata": {
    "collapsed": false
   },
   "outputs": [],
   "source": [
    "A = magic(4)\n",
    "A"
   ]
  },
  {
   "cell_type": "markdown",
   "metadata": {},
   "source": [
    "아래 명령들을 실행해 보면 각 행, 열, 대각선의 합이 모두 34로 A가 마방진임을 확인할 수 있다."
   ]
  },
  {
   "cell_type": "code",
   "execution_count": null,
   "metadata": {
    "collapsed": false
   },
   "outputs": [],
   "source": [
    "print('np.sum(A, 0) = %r' % np.sum(A, 0))\n",
    "print('np.sum(A, 1) = %r' % np.sum(A, 1))\n",
    "print('np.sum(np.diag(A)) = %r' % np.sum(np.diag(A)))\n",
    "print('np.sum(np.diag(np.flipud(A))) = %r' % np.sum(np.diag(np.flipud(A))))"
   ]
  },
  {
   "cell_type": "markdown",
   "metadata": {},
   "source": [
    "그러나 이 $4\\times4$ 마방진은 뒤러의 마방진과 같지는 않다. 두번째 세번째 열을 바꾸어야 한다."
   ]
  },
  {
   "cell_type": "code",
   "execution_count": null,
   "metadata": {
    "collapsed": false
   },
   "outputs": [],
   "source": [
    "A = A[:, [0, 2, 1, 3]]\n",
    "A"
   ]
  },
  {
   "cell_type": "markdown",
   "metadata": {},
   "source": [
    "열 교환으로는 열 합계 또는 행 합계가 바뀌지 않는다.  보통 대각 합계는 바뀌지만 이경우에는 두 대각 합계 모두 34이다. 이제 이 마방진은 뒤러의 동판화와 일치하게 되었다. 뒤러가 이 행렬을 택한 이유는 아마도 작업했던 해인 1514년이 맨 아랫 줄에 나타났기 때문일 것이다.\n",
    "\n",
    "지금까지 우리는 $4\\times4$ 마방진 두개를 관찰했다. $4\\times4$ 마방진은 모두 880개가 있고, $5\\times5$ 마방진은 275305224가지가 있다는 점이 드러났다. $6\\times6$ 이상의 마방진의 종류를 구분하는 것은 아직 해결되지 않은 문제이다.\n",
    "\n",
    "우리의 $4\\times4$ 마방진의 행렬식은 0이다. 만일 역행렬을 구하려고 한다면"
   ]
  },
  {
   "cell_type": "code",
   "execution_count": null,
   "metadata": {
    "collapsed": false
   },
   "outputs": [],
   "source": [
    "na.det(A)"
   ]
  },
  {
   "cell_type": "code",
   "execution_count": null,
   "metadata": {
    "collapsed": false
   },
   "outputs": [],
   "source": [
    "A.I"
   ]
  },
  {
   "cell_type": "markdown",
   "metadata": {},
   "source": [
    "따라서 어떤 마방진은 특이행렬이라고 볼 수 있다.  어떤 행렬이 그러한가? 정방 행렬의 계수 rank 는 선형적으로 독립인 행 또는 열의 수 이다. $n\\times n$ 행렬을 특이행렬이라고 볼 수 있는 필요 충분 조건은, 그 계수 rank 가 $n$ 보다 작은 것이다."
   ]
  },
  {
   "cell_type": "code",
   "execution_count": null,
   "metadata": {
    "collapsed": false
   },
   "outputs": [],
   "source": [
    "r = np.array([(n, na.matrix_rank(magic(n))) for n in range(3, 24+1)])\n",
    "r"
   ]
  },
  {
   "cell_type": "markdown",
   "metadata": {},
   "source": [
    "위 결과를 조심스럽게 살펴 보자.  어떤 규칙성이 보이는가?  막대그래프에서 더 잘 보인다."
   ]
  },
  {
   "cell_type": "code",
   "execution_count": null,
   "metadata": {
    "collapsed": false
   },
   "outputs": [],
   "source": [
    "import matplotlib.pyplot as plt\n",
    "\n",
    "\n",
    "plt.bar(r[:, 0], r[:, 1])\n",
    "plt.title('Rank of magic squares')\n",
    "plt.show()"
   ]
  },
  {
   "cell_type": "markdown",
   "metadata": {},
   "source": [
    "rank 에 따라 3가지 마방진이 있다.\n",
    "* 홀수\n",
    "* 홀수의 2배\n",
    "* 짝수의 2배\n",
    "\n",
    "홀수차 마방진은 full rank 이다. 이들은 특이행렬이 아니며 역행렬을 가진다. 짝수의 2배 차수 마방진은 n 이 아무리 크더라도 rank 는 3이다.  이들은 *매우 특이* 하다고 부를 수 있다.  홀수의 2배 차수 마방진의 rank 는 $n/2 + 2$이다.  이들도 특이행렬이지만, 행과 열이 짝수의 2배수 차수 보다 더 독립적이다.\n",
    "\n",
    "마방진의 종류에 따라 3차원 곡면도 달라진다. 다양한 n 에 대해 다음을 시도해 보라."
   ]
  },
  {
   "cell_type": "code",
   "execution_count": null,
   "metadata": {
    "collapsed": false
   },
   "outputs": [],
   "source": [
    "from mpl_toolkits.mplot3d.axes3d import Axes3D\n",
    "import matplotlib.pyplot as plt\n",
    "\n",
    "dummy = dir(Axes3D)\n",
    "\n",
    "fig = plt.figure(figsize=(16,16))\n",
    "fig.clf()\n",
    "\n",
    "for n in range(8, 11+1):\n",
    "    ax = fig.add_subplot(2, 2, n - 7, projection='3d')\n",
    "    # help(ax)\n",
    "    m = np.array(magic(n)) \n",
    "    x = np.arange(n)\n",
    "    mx, my = np.meshgrid(x, x)\n",
    "    ax.plot_surface(mx, my, m)\n",
    "    plt.title('m%d' % n)\n",
    "    plt.axis('off')\n",
    "    plt.axis('equal')\n",
    "\n",
    "plt.show()"
   ]
  }
 ],
 "metadata": {
  "anaconda-cloud": {},
  "kernelspec": {
   "display_name": "Python [default]",
   "language": "python",
   "name": "python3"
  },
  "language_info": {
   "codemirror_mode": {
    "name": "ipython",
    "version": 3
   },
   "file_extension": ".py",
   "mimetype": "text/x-python",
   "name": "python",
   "nbconvert_exporter": "python",
   "pygments_lexer": "ipython3",
   "version": "3.5.2"
  }
 },
 "nbformat": 4,
 "nbformat_minor": 0
}
